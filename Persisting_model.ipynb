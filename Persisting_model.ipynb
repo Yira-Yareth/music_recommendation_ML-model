{
 "cells": [
  {
   "cell_type": "markdown",
   "metadata": {},
   "source": [
    "# Persisting model"
   ]
  },
  {
   "cell_type": "code",
   "execution_count": 6,
   "metadata": {},
   "outputs": [
    {
     "data": {
      "text/plain": [
       "array(['HipHop', 'Dance'], dtype=object)"
      ]
     },
     "execution_count": 6,
     "metadata": {},
     "output_type": "execute_result"
    }
   ],
   "source": [
    "import pandas as pd\n",
    "from sklearn.tree import DecisionTreeClassifier\n",
    "import joblib #method for saving and loading models \n",
    "\n",
    "music_data=pd.read_csv(\"music.csv\")\n",
    "\n",
    "#creating the input set\n",
    "#X=music_data.drop(columns=[\"genre\"])\n",
    "\n",
    "#creating the output set\n",
    "#y=music_data[\"genre\"]\n",
    "\n",
    "#create model\n",
    "#model=DecisionTreeClassifier()\n",
    "\n",
    "#Training the model to learns patterns in the data\n",
    "#model.fit(X,y)\n",
    "\n",
    "#Making the prediction and saving\n",
    "joblib.dump(model,\"music-recommender.joblib\")\n",
    "\n",
    "#Making prediction\n",
    "model=joblib.load(\"music-recommender.joblib\")\n",
    "predictions= model.predict([[21,1],[22,0]]) #[years,women(0),mean(1)]\n",
    "predictions"
   ]
  }
 ],
 "metadata": {
  "interpreter": {
   "hash": "be9772337e76630d57b874c7eb4812959236d388181218c853d83d1703fa1a09"
  },
  "kernelspec": {
   "display_name": "Python 3.9.7 ('base')",
   "language": "python",
   "name": "python3"
  },
  "language_info": {
   "codemirror_mode": {
    "name": "ipython",
    "version": 3
   },
   "file_extension": ".py",
   "mimetype": "text/x-python",
   "name": "python",
   "nbconvert_exporter": "python",
   "pygments_lexer": "ipython3",
   "version": "3.9.7"
  },
  "orig_nbformat": 4
 },
 "nbformat": 4,
 "nbformat_minor": 2
}
