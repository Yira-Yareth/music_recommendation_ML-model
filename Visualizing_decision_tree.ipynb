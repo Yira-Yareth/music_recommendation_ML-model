{
 "cells": [
  {
   "cell_type": "markdown",
   "metadata": {},
   "source": [
    "# Visualizing decision tree\n",
    "\n",
    "Here we can create the visualization of our tree desicion"
   ]
  },
  {
   "cell_type": "code",
   "execution_count": 1,
   "metadata": {},
   "outputs": [],
   "source": [
    "import pandas as pd\n",
    "from sklearn.tree import DecisionTreeClassifier\n",
    "from sklearn import tree #method for exporting our decision tree in a graphical format \n",
    "\n",
    "music_data=pd.read_csv(\"music.csv\")\n",
    "\n",
    "#creating the input set\n",
    "X=music_data.drop(columns=[\"genre\"])\n",
    "\n",
    "#creating the output set\n",
    "y=music_data[\"genre\"]\n",
    "\n",
    "#create model\n",
    "model=DecisionTreeClassifier()\n",
    "\n",
    "#Training the model to learns patterns in the data\n",
    "model.fit(X,y)\n",
    "\n",
    "#making visualization\n",
    "tree.export_graphviz(model,out_file=\"music-recommender.dot\",\n",
    "                     feature_names=[\"age\",\"gender\"],\n",
    "                     class_names=sorted(y.unique()),\n",
    "                     label=\"all\",#each box has labels\n",
    "                     rounded=True,#each box has rounded corners\n",
    "                     filled=True)#each box is filled with a color"
   ]
  }
 ],
 "metadata": {
  "interpreter": {
   "hash": "be9772337e76630d57b874c7eb4812959236d388181218c853d83d1703fa1a09"
  },
  "kernelspec": {
   "display_name": "Python 3.9.7 ('base')",
   "language": "python",
   "name": "python3"
  },
  "language_info": {
   "codemirror_mode": {
    "name": "ipython",
    "version": 3
   },
   "file_extension": ".py",
   "mimetype": "text/x-python",
   "name": "python",
   "nbconvert_exporter": "python",
   "pygments_lexer": "ipython3",
   "version": "3.9.7"
  },
  "orig_nbformat": 4
 },
 "nbformat": 4,
 "nbformat_minor": 2
}
